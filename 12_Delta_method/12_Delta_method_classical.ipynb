{
 "cells": [
  {
   "cell_type": "markdown",
   "id": "aeb37443",
   "metadata": {},
   "source": [
    "# Delta method (simple case)\n",
    "\n",
    "- This notebook was written by Evangelos Paschalidis.\n",
    "- Acknowledgement of the material is required.\n",
    "- The code comes with no guarantees and the author cannot be held liable for any errors.\n",
    "- Contact: evangelos.paschalidis@epfl.ch\n",
    "\n",
    "## Overview\n",
    "\n",
    "This notebook covers a simple application of the Delta method process:\n",
    "\n",
    "* Load necessary packages\n",
    "* Define the Delta method function\n",
    "* Calculations and results"
   ]
  },
  {
   "cell_type": "markdown",
   "id": "7b07c2d1",
   "metadata": {},
   "source": [
    "## Context: Calculate the t-ratio of the value of time (e.g. beta_tt/beta_tc)\n",
    "\n",
    "We have estimated the travel time and travel cost coefficients of a mode choice model.\n",
    "\n",
    "We have the t-ratios of the individual parameters but not the ratio beta_tt/beta_tc that represents the value of time.\n",
    "\n",
    "We can calculate the t-ratio of the fraction with the Delta method"
   ]
  },
  {
   "cell_type": "markdown",
   "id": "cb1ad16e",
   "metadata": {},
   "source": [
    "## Load packages\n",
    "\n",
    "Before we estimate the model let's load some packages that we are going to need. When importing a package, it is common to rename it using an abbreviation."
   ]
  },
  {
   "cell_type": "code",
   "execution_count": null,
   "id": "57a2baa6",
   "metadata": {},
   "outputs": [],
   "source": [
    "import pandas as pd # for data frame processing\n",
    "import numpy as np # for some statistical procedures\n",
    "import numdifftools as nd # we use this to calculate the Jacobian matrix"
   ]
  },
  {
   "cell_type": "markdown",
   "id": "4e12a2a2",
   "metadata": {},
   "source": [
    "## Load the data\n",
    "\n",
    "Now it is time to load the data. We can do that using the piece of code below.\n",
    "\n",
    "We need to load the results of a previous model and the variance-covariance matrix from the same model.\n",
    "\n",
    "Both are saved automatically when we estimate a model."
   ]
  },
  {
   "cell_type": "code",
   "execution_count": null,
   "id": "be01c858",
   "metadata": {},
   "outputs": [],
   "source": [
    "# Parameter estimates from a model\n",
    "betas = pd.read_csv('MNL_model_results.csv')\n",
    "\n",
    "# Variance-covariance matrix from a model\n",
    "se = pd.read_csv('MNL_model_varcovar.csv', header = None)"
   ]
  },
  {
   "cell_type": "markdown",
   "id": "0ce0732b-11eb-4ee1-a044-81fedd864d2e",
   "metadata": {},
   "source": [
    "# Print the data"
   ]
  },
  {
   "cell_type": "markdown",
   "id": "673443b9-94a4-48e3-acbf-cd0eedb6cfee",
   "metadata": {},
   "source": [
    "## Print the parameter estimates results first"
   ]
  },
  {
   "cell_type": "code",
   "execution_count": null,
   "id": "931f18f2-6241-401a-981d-70492a7daeee",
   "metadata": {},
   "outputs": [],
   "source": [
    "print(betas)"
   ]
  },
  {
   "cell_type": "markdown",
   "id": "50a564fe-d31e-43a3-8aef-35322f887a00",
   "metadata": {},
   "source": [
    "## Print the variance-covariance matrix"
   ]
  },
  {
   "cell_type": "code",
   "execution_count": null,
   "id": "ae7cf3d2-05b4-4c0d-b5b8-8684cce71770",
   "metadata": {},
   "outputs": [],
   "source": [
    "print(se)"
   ]
  },
  {
   "cell_type": "markdown",
   "id": "6d318f7b-e9f7-4e6c-b36f-c95b39e45dd7",
   "metadata": {},
   "source": [
    "# Function to evaluate\n",
    "\n",
    "We need to define a function to evaluate. In this case, our function is the ratio of parameters.\n",
    "\n",
    "**The indexes 0 and 1 of the parameters are not known in advance. We must check them once we load the results**"
   ]
  },
  {
   "cell_type": "code",
   "execution_count": null,
   "id": "8c3eb68a-cd09-4f06-922b-8ad38559d48a",
   "metadata": {},
   "outputs": [],
   "source": [
    "def f_eval(beta):\n",
    "  \n",
    "  f_result = beta[1]/beta[0]\n",
    "  \n",
    "  return(f_result)"
   ]
  },
  {
   "cell_type": "markdown",
   "id": "b042f6e5-1da0-4a6e-8d25-d1ab800f275b",
   "metadata": {},
   "source": [
    "# Define the Delta method function"
   ]
  },
  {
   "cell_type": "code",
   "execution_count": null,
   "id": "466ae19d-a7e2-4b73-806a-2be55a89bd2d",
   "metadata": {},
   "outputs": [],
   "source": [
    "def deltaMethod(f_eval, betas_filt, se_delta):\n",
    "  \n",
    "  jacobian_func = nd.Jacobian(f_eval)\n",
    "  J = jacobian_func(betas_filt)\n",
    "  \n",
    "  newse = J @ se_delta @ J.T\n",
    "  \n",
    "  return(newse)"
   ]
  },
  {
   "cell_type": "markdown",
   "id": "4ef246ea-17d0-46bf-9254-f7ab12cd18be",
   "metadata": {},
   "source": [
    "# Data manipulation\n",
    "\n",
    "We do some data manipulation to facilitate our calculations"
   ]
  },
  {
   "cell_type": "code",
   "execution_count": null,
   "id": "e9693a58-9c4a-452c-845d-8aebef08b178",
   "metadata": {},
   "outputs": [],
   "source": [
    "# We define the beta names of the parameters that we need.\n",
    "betas_names = np.array(['beta_tc', 'beta_tt'])\n",
    "\n",
    "# We keep only the rows of the results that we need based on the names that we specified above.\n",
    "betas_filt = betas[betas['Parameter'].isin(betas_names)]\n",
    "\n",
    "# We extract the indexes (positions)\n",
    "indexes = betas_filt.index.to_numpy()\n",
    "\n",
    "# We keep only the values of the parameter estimates.\n",
    "betas_filt = betas_filt['Estimate'].values\n",
    "\n",
    "# We extract the respective rows/ columns from the variance-covariance matrix.\n",
    "se_delta = se.iloc[indexes, indexes]"
   ]
  },
  {
   "cell_type": "markdown",
   "id": "af890f85-8a6d-4747-92fe-d4b0205740a6",
   "metadata": {},
   "source": [
    "# Implement the Delta method"
   ]
  },
  {
   "cell_type": "markdown",
   "id": "a748d031-783d-4148-8147-83fdaf8c8f5a",
   "metadata": {},
   "source": [
    "## Run the Delta method function"
   ]
  },
  {
   "cell_type": "code",
   "execution_count": null,
   "id": "affd7a89-e793-4ba7-989f-339abef5ebb0",
   "metadata": {},
   "outputs": [],
   "source": [
    "newse = deltaMethod(f_eval, betas_filt, se_delta)"
   ]
  },
  {
   "cell_type": "markdown",
   "id": "07888f7f-cbd4-4236-a497-5b0568736252",
   "metadata": {},
   "source": [
    "## Get and print the result (t-ratio value)"
   ]
  },
  {
   "cell_type": "code",
   "execution_count": null,
   "id": "5d6aa2c8-08b7-4457-9cf4-496983d6208d",
   "metadata": {},
   "outputs": [],
   "source": [
    "tratio = f_eval(betas_filt)/(np.sqrt(newse))\n",
    "print(tratio)"
   ]
  }
 ],
 "metadata": {
  "kernelspec": {
   "display_name": "Python 3 (ipykernel)",
   "language": "python",
   "name": "python3"
  },
  "language_info": {
   "codemirror_mode": {
    "name": "ipython",
    "version": 3
   },
   "file_extension": ".py",
   "mimetype": "text/x-python",
   "name": "python",
   "nbconvert_exporter": "python",
   "pygments_lexer": "ipython3",
   "version": "3.11.5"
  }
 },
 "nbformat": 4,
 "nbformat_minor": 5
}
